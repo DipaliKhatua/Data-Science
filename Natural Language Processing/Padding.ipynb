{
 "cells": [
  {
   "cell_type": "markdown",
   "id": "b2f4dfdd",
   "metadata": {},
   "source": [
    "Padding in Natural Language Processing (NLP) is a technique used to ensure that all input sequences have the same length. Since models process data in batches, different-length sentences can create challenges. Padding helps by adding extra \"empty\" tokens to shorter sequences."
   ]
  },
  {
   "cell_type": "markdown",
   "id": "2daf5f7a",
   "metadata": {},
   "source": [
    "#### Example of Padding\n",
    "Imagine you have three sentences:\n",
    "- 1️⃣ \"I love AI.\" (3 words)\n",
    "- 2️⃣ \"Machine Learning is powerful.\" (4 words)\n",
    "- 3️⃣ \"Deep Learning.\" (2 words)\n",
    "##### To make all sentences 4 words long, we add padding tokens ([PAD]):\n",
    "- 🔹 \"I love AI [PAD]\"\n",
    "- 🔹 \"Machine Learning is powerful\"\n",
    "- 🔹 \"Deep Learning [PAD] [PAD]\"\n",
    "\n"
   ]
  },
  {
   "cell_type": "markdown",
   "id": "a5892d11",
   "metadata": {},
   "source": [
    "Why is Padding Needed?\n",
    "- ✔️ Helps ensure consistent input sizes for neural networks.\n",
    "- ✔️ Avoids errors caused by varying sentence lengths.\n",
    "- ✔️ Improves efficiency when processing text in batches\n"
   ]
  },
  {
   "cell_type": "code",
   "execution_count": null,
   "id": "b2eb51db",
   "metadata": {},
   "outputs": [],
   "source": []
  }
 ],
 "metadata": {
  "language_info": {
   "name": "python"
  }
 },
 "nbformat": 4,
 "nbformat_minor": 5
}
