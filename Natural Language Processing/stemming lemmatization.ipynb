{
 "cells": [
  {
   "cell_type": "markdown",
   "id": "e1b22192",
   "metadata": {},
   "source": [
    "## Stemming and lemmatization are techniques in natural language processing (NLP) used to reduce words to their base or root forms. \n",
    "\n",
    "### Example: \"Running,\" \"runs,\" and \"ran\" would all be stemmed to --> \"run\". \n",
    "### Approach: Uses predefined rules to remove suffixes or prefixes. "
   ]
  },
  {
   "cell_type": "markdown",
   "id": "a944b361",
   "metadata": {},
   "source": [
    "Stemming reduces a word to its root form by chopping off suffixes (e.g., \"running\" → \"run\"), while lemmatization returns the base form of a word using linguistic rules (e.g., \"running\" → \"run\" and \"better\" → \"good\").\n"
   ]
  },
  {
   "cell_type": "markdown",
   "id": "d28582b0",
   "metadata": {},
   "source": [
    "![alt text](image.png) \n",
    "source: https://images.app.goo.gl/WRoCZruJLRuCBqqq5"
   ]
  },
  {
   "cell_type": "markdown",
   "id": "dd3f6626",
   "metadata": {},
   "source": [
    "### Stemming"
   ]
  },
  {
   "cell_type": "code",
   "execution_count": 1,
   "id": "ebe542d9",
   "metadata": {},
   "outputs": [],
   "source": [
    "from nltk.stem import PorterStemmer"
   ]
  },
  {
   "cell_type": "code",
   "execution_count": 2,
   "id": "fdc85052",
   "metadata": {},
   "outputs": [],
   "source": [
    "porter = PorterStemmer()"
   ]
  },
  {
   "cell_type": "code",
   "execution_count": 3,
   "id": "68639642",
   "metadata": {},
   "outputs": [
    {
     "name": "stdout",
     "output_type": "stream",
     "text": [
      "replac\n",
      "replac\n",
      "replac\n"
     ]
    }
   ],
   "source": [
    "print(porter.stem(\"Replacement\"))\n",
    "print(porter.stem(\"Replaced\"))\n",
    "print(porter.stem(\"Replacing\"))"
   ]
  },
  {
   "cell_type": "code",
   "execution_count": 4,
   "id": "8beb4215",
   "metadata": {},
   "outputs": [
    {
     "name": "stdout",
     "output_type": "stream",
     "text": [
      "walk\n",
      "walk\n",
      "walk\n"
     ]
    }
   ],
   "source": [
    "print(porter.stem(\"Walked\"))\n",
    "print(porter.stem(\"Walking\"))\n",
    "print(porter.stem(\"Walk\"))\n"
   ]
  },
  {
   "cell_type": "markdown",
   "id": "01c58c79",
   "metadata": {},
   "source": [
    "## Lemmatization"
   ]
  },
  {
   "cell_type": "code",
   "execution_count": 6,
   "id": "b65750ea",
   "metadata": {},
   "outputs": [
    {
     "name": "stderr",
     "output_type": "stream",
     "text": [
      "[nltk_data] Downloading package punkt to\n",
      "[nltk_data]     C:\\Users\\Dips\\AppData\\Roaming\\nltk_data...\n",
      "[nltk_data]   Package punkt is already up-to-date!\n"
     ]
    },
    {
     "data": {
      "text/plain": [
       "True"
      ]
     },
     "execution_count": 6,
     "metadata": {},
     "output_type": "execute_result"
    }
   ],
   "source": [
    "import nltk\n",
    "nltk.download('punkt')  # For downloading specific datasets"
   ]
  },
  {
   "cell_type": "code",
   "execution_count": 7,
   "id": "2bd42387",
   "metadata": {},
   "outputs": [],
   "source": [
    "from nltk.stem import WordNetLemmatizer\n",
    "from nltk.corpus import wordnet"
   ]
  },
  {
   "cell_type": "markdown",
   "id": "178f21bb",
   "metadata": {},
   "source": [
    "A corpus is a collection of written or spoken texts used for linguistic analysis, NLP tasks, or training language models."
   ]
  },
  {
   "cell_type": "markdown",
   "id": "c10182da",
   "metadata": {},
   "source": [
    "Think of WordNet as a dictionary + thesaurus + relationship map all rolled into one. It's like a tool that organizes words by their meanings and shows how they are connected.\n",
    "\n",
    "Example:\n",
    "Take the word \"dog\":\n",
    "- Similar words (synonyms): \"canine\", \"pooch\", \"domestic dog\"\n",
    "- Bigger category (hypernym): \"mammal\" (a dog is a type of mammal)\n",
    "- Smaller category (hyponym): \"puppy\" (a puppy is a type of dog)\n",
    "\n",
    "\n",
    "It helps computers understand these relationships so they can process language better—for example, knowing that \"dog\" and \"puppy\" are closely related in meaning.\n"
   ]
  },
  {
   "cell_type": "code",
   "execution_count": 8,
   "id": "c616564e",
   "metadata": {},
   "outputs": [],
   "source": [
    "lemmatizer = WordNetLemmatizer()"
   ]
  },
  {
   "cell_type": "code",
   "execution_count": 11,
   "id": "a4364f23",
   "metadata": {},
   "outputs": [
    {
     "name": "stderr",
     "output_type": "stream",
     "text": [
      "[nltk_data] Downloading package wordnet to\n",
      "[nltk_data]     C:\\Users\\Dips\\AppData\\Roaming\\nltk_data...\n"
     ]
    },
    {
     "data": {
      "text/plain": [
       "True"
      ]
     },
     "execution_count": 11,
     "metadata": {},
     "output_type": "execute_result"
    }
   ],
   "source": [
    "nltk.download('wordnet')"
   ]
  },
  {
   "cell_type": "code",
   "execution_count": 12,
   "id": "b63d5c73",
   "metadata": {},
   "outputs": [
    {
     "name": "stderr",
     "output_type": "stream",
     "text": [
      "[nltk_data] Downloading package omw-1.4 to\n",
      "[nltk_data]     C:\\Users\\Dips\\AppData\\Roaming\\nltk_data...\n",
      "[nltk_data]   Package omw-1.4 is already up-to-date!\n"
     ]
    },
    {
     "data": {
      "text/plain": [
       "True"
      ]
     },
     "execution_count": 12,
     "metadata": {},
     "output_type": "execute_result"
    }
   ],
   "source": [
    "nltk.download('omw-1.4')"
   ]
  },
  {
   "cell_type": "code",
   "execution_count": 13,
   "id": "67674e7d",
   "metadata": {},
   "outputs": [
    {
     "data": {
      "text/plain": [
       "'mouse'"
      ]
     },
     "execution_count": 13,
     "metadata": {},
     "output_type": "execute_result"
    }
   ],
   "source": [
    "lemmatizer.lemmatize(\"mice\")"
   ]
  },
  {
   "cell_type": "code",
   "execution_count": 17,
   "metadata": {},
   "outputs": [
    {
     "data": {
      "text/plain": [
       "'Going'"
      ]
     },
     "execution_count": 17,
     "metadata": {},
     "output_type": "execute_result"
    }
   ],
   "source": [
    "lemmatizer.lemmatize(\"Going\")"
   ]
  },
  {
   "cell_type": "code",
   "execution_count": 18,
   "id": "43ed73cf",
   "metadata": {},
   "outputs": [
    {
     "data": {
      "text/plain": [
       "'Going'"
      ]
     },
     "execution_count": 18,
     "metadata": {},
     "output_type": "execute_result"
    }
   ],
   "source": [
    "lemmatizer.lemmatize(\"Going\", pos=wordnet.VERB)"
   ]
  },
  {
   "cell_type": "code",
   "execution_count": 7,
   "id": "a1cb33a4",
   "metadata": {},
   "outputs": [
    {
     "name": "stdout",
     "output_type": "stream",
     "text": [
      "replac\n",
      "replac\n",
      "replac\n"
     ]
    }
   ],
   "source": [
    "print(porter.stem(\"Replacement\"))\n",
    "print(porter.stem(\"Replaced\"))\n",
    "print(porter.stem(\"Replacing\"))"
   ]
  },
  {
   "cell_type": "code",
   "execution_count": 9,
   "id": "e0a65a7e",
   "metadata": {},
   "outputs": [],
   "source": [
    "from nltk.stem import PorterStemmer, LancasterStemmer, SnowballStemmer\n",
    "\n",
    "lancaster = LancasterStemmer()\n",
    "porter = PorterStemmer()\n",
    "snow = SnowballStemmer(\"english\")\n",
    "\n",
    "a = \"hobby\"\n",
    "b = \"hobbies\"\n",
    "c = \"computation\"\n",
    "d = \"computer\"\n",
    "e = \"going\"\n",
    "f = \"gone\""
   ]
  },
  {
   "cell_type": "code",
   "execution_count": 11,
   "id": "f8224782",
   "metadata": {},
   "outputs": [
    {
     "name": "stdout",
     "output_type": "stream",
     "text": [
      "hobby\n",
      "hobby\n",
      "comput\n",
      "comput\n",
      "going\n",
      "gon\n"
     ]
    }
   ],
   "source": [
    "# Lancatser\n",
    "print(lancaster.stem(a))\n",
    "print(lancaster.stem(b))\n",
    "print(lancaster.stem(c))\n",
    "print(lancaster.stem(d))\n",
    "print(lancaster.stem(e))\n",
    "print(lancaster.stem(f))"
   ]
  },
  {
   "cell_type": "code",
   "execution_count": 12,
   "id": "c3aab656",
   "metadata": {},
   "outputs": [
    {
     "name": "stdout",
     "output_type": "stream",
     "text": [
      "hobbi\n",
      "hobbi\n",
      "comput\n",
      "comput\n",
      "go\n",
      "gone\n"
     ]
    }
   ],
   "source": [
    "# PorterStemmer\n",
    "print(porter.stem(a))\n",
    "print(porter.stem(b))\n",
    "print(porter.stem(c))\n",
    "print(porter.stem(d))\n",
    "print(porter.stem(e))\n",
    "print(porter.stem(f))"
   ]
  },
  {
   "cell_type": "code",
   "execution_count": null,
   "id": "2206ad04",
   "metadata": {},
   "outputs": [
    {
     "name": "stdout",
     "output_type": "stream",
     "text": [
      "hobbi\n",
      "hobbi\n",
      "comput\n",
      "comput\n",
      "go\n",
      "gone\n"
     ]
    }
   ],
   "source": [
    "# SnowballStemmer\n",
    "print(snow.stem(a))\n",
    "print(snow.stem(b))\n",
    "print(snow.stem(c))\n",
    "print(snow.stem(d))\n",
    "print(snow.stem(e))\n",
    "print(snow.stem(f))"
   ]
  }
 ],
 "metadata": {
  "kernelspec": {
   "display_name": "Python 3",
   "language": "python",
   "name": "python3"
  },
  "language_info": {
   "codemirror_mode": {
    "name": "ipython",
    "version": 3
   },
   "file_extension": ".py",
   "mimetype": "text/x-python",
   "name": "python",
   "nbconvert_exporter": "python",
   "pygments_lexer": "ipython3",
   "version": "3.12.3"
  }
 },
 "nbformat": 4,
 "nbformat_minor": 5
}
