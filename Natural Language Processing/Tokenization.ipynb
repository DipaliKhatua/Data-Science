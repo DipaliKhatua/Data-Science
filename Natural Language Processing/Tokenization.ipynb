{
 "cells": [
  {
   "cell_type": "markdown",
   "id": "c5a4c349",
   "metadata": {},
   "source": [
    "Natural Language Processing (NLP) is a field of artificial intelligence that enables computers to understand, interpret, and generate human language. It is essential for making interactions between humans and machines smoother.\n"
   ]
  },
  {
   "cell_type": "markdown",
   "id": "0cc0a91e",
   "metadata": {},
   "source": [
    "### Need of NLP\n",
    "- Helps computers process and understand human language, making interactions more intuitive.\n",
    "- Enables businesses to automate tasks like customer support through chatbots.\n",
    "- Facilitates search engines in retrieving relevant results based on user queries.\n",
    "\n",
    "### Use of NLP\n",
    " - Text Analysis: NLP is used in sentiment analysis to determine whether customer feedback is positive, negative, or neutral.\n",
    "- Speech Recognition: Virtual assistants like Siri and Alexa convert spoken language into text.\n"
   ]
  },
  {
   "cell_type": "markdown",
   "id": "5bc63fd4",
   "metadata": {},
   "source": [
    "## Tokenization\n",
    "Tokenization is the process of splitting text into individual words or phrases (tokens). For example:\n",
    "- Input: \"I love natural language processing!\"\n",
    "- Tokenized Output: [\"I\", \"love\", \"natural\", \"language\", \"processing\", \"!\"]\n"
   ]
  },
  {
   "cell_type": "code",
   "execution_count": 1,
   "id": "21622bfc",
   "metadata": {},
   "outputs": [],
   "source": [
    "# importing depndencies\n",
    "from tensorflow.keras.preprocessing.text import Tokenizer"
   ]
  },
  {
   "cell_type": "code",
   "execution_count": 4,
   "id": "5b7093bb",
   "metadata": {},
   "outputs": [],
   "source": [
    "sentences = [\n",
    "    'I love my Dog',\n",
    "    'I love my Cat'\n",
    "]"
   ]
  },
  {
   "cell_type": "code",
   "execution_count": 5,
   "id": "225e5517",
   "metadata": {},
   "outputs": [
    {
     "data": {
      "text/plain": [
       "['I love my Dog', 'I love my Cat']"
      ]
     },
     "execution_count": 5,
     "metadata": {},
     "output_type": "execute_result"
    }
   ],
   "source": [
    "sentences"
   ]
  },
  {
   "cell_type": "code",
   "execution_count": 6,
   "id": "20fecea7",
   "metadata": {},
   "outputs": [],
   "source": [
    "token = Tokenizer(num_words=100)"
   ]
  },
  {
   "cell_type": "code",
   "execution_count": 7,
   "id": "dc5b3410",
   "metadata": {},
   "outputs": [],
   "source": [
    "token.fit_on_texts(sentences)"
   ]
  },
  {
   "cell_type": "code",
   "execution_count": 9,
   "id": "590726bf",
   "metadata": {},
   "outputs": [],
   "source": [
    "index = token.word_index"
   ]
  },
  {
   "cell_type": "code",
   "execution_count": 10,
   "id": "788961c5",
   "metadata": {},
   "outputs": [
    {
     "data": {
      "text/plain": [
       "{'i': 1, 'love': 2, 'my': 3, 'dog': 4, 'cat': 5}"
      ]
     },
     "execution_count": 10,
     "metadata": {},
     "output_type": "execute_result"
    }
   ],
   "source": [
    "index"
   ]
  }
 ],
 "metadata": {
  "kernelspec": {
   "display_name": "Python 3",
   "language": "python",
   "name": "python3"
  },
  "language_info": {
   "codemirror_mode": {
    "name": "ipython",
    "version": 3
   },
   "file_extension": ".py",
   "mimetype": "text/x-python",
   "name": "python",
   "nbconvert_exporter": "python",
   "pygments_lexer": "ipython3",
   "version": "3.12.3"
  }
 },
 "nbformat": 4,
 "nbformat_minor": 5
}
