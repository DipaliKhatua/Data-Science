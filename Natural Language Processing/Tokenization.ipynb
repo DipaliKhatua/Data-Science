{
 "cells": [
  {
   "cell_type": "markdown",
   "id": "c5a4c349",
   "metadata": {},
   "source": [
    "Natural Language Processing (NLP) is a field of artificial intelligence that enables computers to understand, interpret, and generate human language. It is essential for making interactions between humans and machines smoother.\n"
   ]
  },
  {
   "cell_type": "markdown",
   "id": "0cc0a91e",
   "metadata": {},
   "source": [
    "### Need of NLP\n",
    "- Helps computers process and understand human language, making interactions more intuitive.\n",
    "- Enables businesses to automate tasks like customer support through chatbots.\n",
    "- Facilitates search engines in retrieving relevant results based on user queries.\n",
    "\n",
    "### Use of NLP\n",
    " - Text Analysis: NLP is used in sentiment analysis to determine whether customer feedback is positive, negative, or neutral.\n",
    "- Speech Recognition: Virtual assistants like Siri and Alexa convert spoken language into text.\n"
   ]
  },
  {
   "cell_type": "markdown",
   "id": "5bc63fd4",
   "metadata": {},
   "source": [
    "## Tokenization\n",
    "Tokenization is the process of splitting text into individual words or phrases (tokens). For example:\n",
    "- Input: \"I love natural language processing!\"\n",
    "- Tokenized Output: [\"I\", \"love\", \"natural\", \"language\", \"processing\", \"!\"]\n"
   ]
  },
  {
   "cell_type": "code",
   "execution_count": 1,
   "id": "21622bfc",
   "metadata": {},
   "outputs": [],
   "source": [
    "# importing depndencies\n",
    "from tensorflow.keras.preprocessing.text import Tokenizer"
   ]
  },
  {
   "cell_type": "code",
   "execution_count": 4,
   "id": "5b7093bb",
   "metadata": {},
   "outputs": [],
   "source": [
    "sentences = [\n",
    "    'I love my Dog',\n",
    "    'I love my Cat'\n",
    "]"
   ]
  },
  {
   "cell_type": "code",
   "execution_count": 5,
   "id": "225e5517",
   "metadata": {},
   "outputs": [
    {
     "data": {
      "text/plain": [
       "['I love my Dog', 'I love my Cat']"
      ]
     },
     "execution_count": 5,
     "metadata": {},
     "output_type": "execute_result"
    }
   ],
   "source": [
    "sentences"
   ]
  },
  {
   "cell_type": "code",
   "execution_count": 6,
   "id": "20fecea7",
   "metadata": {},
   "outputs": [],
   "source": [
    "token = Tokenizer(num_words=100)"
   ]
  },
  {
   "cell_type": "code",
   "execution_count": 7,
   "id": "dc5b3410",
   "metadata": {},
   "outputs": [],
   "source": [
    "token.fit_on_texts(sentences)"
   ]
  },
  {
   "cell_type": "code",
   "execution_count": 9,
   "id": "590726bf",
   "metadata": {},
   "outputs": [],
   "source": [
    "index = token.word_index"
   ]
  },
  {
   "cell_type": "code",
   "execution_count": 10,
   "id": "788961c5",
   "metadata": {},
   "outputs": [
    {
     "data": {
      "text/plain": [
       "{'i': 1, 'love': 2, 'my': 3, 'dog': 4, 'cat': 5}"
      ]
     },
     "execution_count": 10,
     "metadata": {},
     "output_type": "execute_result"
    }
   ],
   "source": [
    "index"
   ]
  },
  {
   "cell_type": "code",
   "execution_count": 1,
   "id": "399cad59",
   "metadata": {},
   "outputs": [],
   "source": [
    "import nltk"
   ]
  },
  {
   "cell_type": "code",
   "execution_count": 17,
   "id": "5a5b3319",
   "metadata": {},
   "outputs": [
    {
     "name": "stderr",
     "output_type": "stream",
     "text": [
      "[nltk_data] Downloading package punkt_tab to\n",
      "[nltk_data]     C:\\Users\\Dips\\AppData\\Roaming\\nltk_data...\n",
      "[nltk_data]   Package punkt_tab is already up-to-date!\n"
     ]
    },
    {
     "data": {
      "text/plain": [
       "True"
      ]
     },
     "execution_count": 17,
     "metadata": {},
     "output_type": "execute_result"
    }
   ],
   "source": [
    "nltk.download(\"punkt_tab\")"
   ]
  },
  {
   "cell_type": "code",
   "execution_count": 9,
   "id": "39989401",
   "metadata": {},
   "outputs": [],
   "source": [
    "data = data = \"India (Hindi: Bhārat), officially the Republic of India, is a country in South Asia. It is the seventh-largest country by area, the second-most populous country, and the most populous democracy in the world. Bounded by the Indian Ocean on the south, the Arabian Sea on the southwest, and the Bay of Bengal on the southeast, it shares land borders with Pakistan to the west; China, Nepal, and Bhutan to the north; and Bangladesh and Myanmar to the east. In the Indian Ocean, India is in the vicinity of Sri Lanka and the Maldives; its Andaman and Nicobar Islands share a maritime border with Thailand and Indonesia.\""
   ]
  },
  {
   "cell_type": "code",
   "execution_count": null,
   "id": "44ee5feb",
   "metadata": {},
   "outputs": [
    {
     "data": {
      "text/plain": [
       "['India (Hindi: Bhārat), officially the Republic of India, is a country in South Asia.',\n",
       " 'It is the seventh-largest country by area, the second-most populous country, and the most populous democracy in the world.',\n",
       " 'Bounded by the Indian Ocean on the south, the Arabian Sea on the southwest, and the Bay of Bengal on the southeast, it shares land borders with Pakistan to the west; China, Nepal, and Bhutan to the north; and Bangladesh and Myanmar to the east.',\n",
       " 'In the Indian Ocean, India is in the vicinity of Sri Lanka and the Maldives; its Andaman and Nicobar Islands share a maritime border with Thailand and Indonesia.']"
      ]
     },
     "execution_count": 10,
     "metadata": {},
     "output_type": "execute_result"
    }
   ],
   "source": [
    "# sentence tokenize\n",
    "nltk.sent_tokenize(data)"
   ]
  },
  {
   "cell_type": "code",
   "execution_count": 11,
   "id": "9c52fb8c",
   "metadata": {},
   "outputs": [
    {
     "data": {
      "text/plain": [
       "['India',\n",
       " '(',\n",
       " 'Hindi',\n",
       " ':',\n",
       " 'Bhārat',\n",
       " ')',\n",
       " ',',\n",
       " 'officially',\n",
       " 'the',\n",
       " 'Republic',\n",
       " 'of',\n",
       " 'India',\n",
       " ',',\n",
       " 'is',\n",
       " 'a',\n",
       " 'country',\n",
       " 'in',\n",
       " 'South',\n",
       " 'Asia',\n",
       " '.',\n",
       " 'It',\n",
       " 'is',\n",
       " 'the',\n",
       " 'seventh-largest',\n",
       " 'country',\n",
       " 'by',\n",
       " 'area',\n",
       " ',',\n",
       " 'the',\n",
       " 'second-most',\n",
       " 'populous',\n",
       " 'country',\n",
       " ',',\n",
       " 'and',\n",
       " 'the',\n",
       " 'most',\n",
       " 'populous',\n",
       " 'democracy',\n",
       " 'in',\n",
       " 'the',\n",
       " 'world',\n",
       " '.',\n",
       " 'Bounded',\n",
       " 'by',\n",
       " 'the',\n",
       " 'Indian',\n",
       " 'Ocean',\n",
       " 'on',\n",
       " 'the',\n",
       " 'south',\n",
       " ',',\n",
       " 'the',\n",
       " 'Arabian',\n",
       " 'Sea',\n",
       " 'on',\n",
       " 'the',\n",
       " 'southwest',\n",
       " ',',\n",
       " 'and',\n",
       " 'the',\n",
       " 'Bay',\n",
       " 'of',\n",
       " 'Bengal',\n",
       " 'on',\n",
       " 'the',\n",
       " 'southeast',\n",
       " ',',\n",
       " 'it',\n",
       " 'shares',\n",
       " 'land',\n",
       " 'borders',\n",
       " 'with',\n",
       " 'Pakistan',\n",
       " 'to',\n",
       " 'the',\n",
       " 'west',\n",
       " ';',\n",
       " 'China',\n",
       " ',',\n",
       " 'Nepal',\n",
       " ',',\n",
       " 'and',\n",
       " 'Bhutan',\n",
       " 'to',\n",
       " 'the',\n",
       " 'north',\n",
       " ';',\n",
       " 'and',\n",
       " 'Bangladesh',\n",
       " 'and',\n",
       " 'Myanmar',\n",
       " 'to',\n",
       " 'the',\n",
       " 'east',\n",
       " '.',\n",
       " 'In',\n",
       " 'the',\n",
       " 'Indian',\n",
       " 'Ocean',\n",
       " ',',\n",
       " 'India',\n",
       " 'is',\n",
       " 'in',\n",
       " 'the',\n",
       " 'vicinity',\n",
       " 'of',\n",
       " 'Sri',\n",
       " 'Lanka',\n",
       " 'and',\n",
       " 'the',\n",
       " 'Maldives',\n",
       " ';',\n",
       " 'its',\n",
       " 'Andaman',\n",
       " 'and',\n",
       " 'Nicobar',\n",
       " 'Islands',\n",
       " 'share',\n",
       " 'a',\n",
       " 'maritime',\n",
       " 'border',\n",
       " 'with',\n",
       " 'Thailand',\n",
       " 'and',\n",
       " 'Indonesia',\n",
       " '.']"
      ]
     },
     "execution_count": 11,
     "metadata": {},
     "output_type": "execute_result"
    }
   ],
   "source": [
    "# word tokenize\n",
    "nltk.word_tokenize(data)"
   ]
  },
  {
   "cell_type": "code",
   "execution_count": null,
   "id": "10a9c5d0",
   "metadata": {},
   "outputs": [],
   "source": [
    "# POS Tags ( Part of Speech)"
   ]
  },
  {
   "cell_type": "markdown",
   "id": "84278b8e",
   "metadata": {},
   "source": [
    "### Task:\n",
    "cleaning text data"
   ]
  },
  {
   "cell_type": "code",
   "execution_count": 12,
   "id": "69ffae6b",
   "metadata": {},
   "outputs": [],
   "source": [
    "import string"
   ]
  },
  {
   "cell_type": "code",
   "execution_count": 13,
   "id": "13e0a452",
   "metadata": {},
   "outputs": [
    {
     "name": "stdout",
     "output_type": "stream",
     "text": [
      "Hi I love to read books Do you\n"
     ]
    }
   ],
   "source": [
    "def cleaned_data(data):\n",
    "    data = data.translate(str.maketrans('', '', string.punctuation))\n",
    "    return data\n",
    "\n",
    "raw_sentence = \"Hi, I love to read books, Do you?\"\n",
    "cleaned_sentence = cleaned_data(raw_sentence)\n",
    "print(cleaned_sentence)"
   ]
  },
  {
   "cell_type": "code",
   "execution_count": 15,
   "id": "2f03bd2f",
   "metadata": {},
   "outputs": [],
   "source": [
    "import string\n",
    "import nltk\n",
    "from nltk.corpus import stopwords\n"
   ]
  },
  {
   "cell_type": "code",
   "execution_count": 16,
   "id": "ac181b94",
   "metadata": {},
   "outputs": [
    {
     "name": "stderr",
     "output_type": "stream",
     "text": [
      "[nltk_data] Downloading package stopwords to\n",
      "[nltk_data]     C:\\Users\\Dips\\AppData\\Roaming\\nltk_data...\n",
      "[nltk_data]   Package stopwords is already up-to-date!\n"
     ]
    }
   ],
   "source": [
    "nltk.download('stopwords')\n",
    "stop_words = set(stopwords.words('english'))\n"
   ]
  },
  {
   "cell_type": "code",
   "execution_count": null,
   "id": "70ac42e5",
   "metadata": {},
   "outputs": [
    {
     "name": "stderr",
     "output_type": "stream",
     "text": [
      "[nltk_data] Downloading package stopwords to\n",
      "[nltk_data]     C:\\Users\\Dips\\AppData\\Roaming\\nltk_data...\n"
     ]
    },
    {
     "name": "stdout",
     "output_type": "stream",
     "text": [
      "Hi love read books\n"
     ]
    },
    {
     "name": "stderr",
     "output_type": "stream",
     "text": [
      "[nltk_data]   Unzipping corpora\\stopwords.zip.\n"
     ]
    }
   ],
   "source": [
    "\n",
    "def cleaned_data(data):\n",
    "    data = data.translate(str.maketrans('', '', string.punctuation))\n",
    "    data = ' '.join([word for word in data.split() if word.lower() not in stop_words])\n",
    "    return data\n",
    "raw_sentence = \"Hi, I love to read books, Do you?\"\n",
    "cleaned_sentence = cleaned_data(raw_sentence)\n",
    "print(cleaned_sentence)"
   ]
  },
  {
   "cell_type": "code",
   "execution_count": 18,
   "id": "e00f32f9",
   "metadata": {},
   "outputs": [],
   "source": [
    "def clean_data_2(raw_text: str):\n",
    "    clean_data = []\n",
    "    for word in nltk.word_tokenize(raw_text.lower()):\n",
    "        if word not in stop_words:\n",
    "            if word not in \"punkt_tab\":\n",
    "                clean_data.append(word)\n",
    "    return \" \".join(clean_data)"
   ]
  },
  {
   "cell_type": "code",
   "execution_count": 19,
   "id": "c69080a8",
   "metadata": {},
   "outputs": [
    {
     "data": {
      "text/plain": [
       "'india ( hindi : bhārat ) , officially republic india , country south asia . seventh-largest country area , second-most populous country , populous democracy world . bounded indian ocean south , arabian sea southwest , bay bengal southeast , shares land borders pakistan west ; china , nepal , bhutan north ; bangladesh myanmar east . indian ocean , india vicinity sri lanka maldives ; andaman nicobar islands share maritime border thailand indonesia .'"
      ]
     },
     "execution_count": 19,
     "metadata": {},
     "output_type": "execute_result"
    }
   ],
   "source": [
    "clean_data_2(data)"
   ]
  }
 ],
 "metadata": {
  "kernelspec": {
   "display_name": "Python 3",
   "language": "python",
   "name": "python3"
  },
  "language_info": {
   "codemirror_mode": {
    "name": "ipython",
    "version": 3
   },
   "file_extension": ".py",
   "mimetype": "text/x-python",
   "name": "python",
   "nbconvert_exporter": "python",
   "pygments_lexer": "ipython3",
   "version": "3.12.3"
  }
 },
 "nbformat": 4,
 "nbformat_minor": 5
}
