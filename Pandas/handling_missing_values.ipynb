{
 "cells": [
  {
   "cell_type": "markdown",
   "metadata": {},
   "source": [
    "#### Handling Missing Values in Python"
   ]
  },
  {
   "cell_type": "code",
   "execution_count": 1,
   "metadata": {},
   "outputs": [],
   "source": [
    "import pandas as pd"
   ]
  },
  {
   "cell_type": "code",
   "execution_count": 6,
   "metadata": {},
   "outputs": [
    {
     "data": {
      "text/html": [
       "<div>\n",
       "<style scoped>\n",
       "    .dataframe tbody tr th:only-of-type {\n",
       "        vertical-align: middle;\n",
       "    }\n",
       "\n",
       "    .dataframe tbody tr th {\n",
       "        vertical-align: top;\n",
       "    }\n",
       "\n",
       "    .dataframe thead th {\n",
       "        text-align: right;\n",
       "    }\n",
       "</style>\n",
       "<table border=\"1\" class=\"dataframe\">\n",
       "  <thead>\n",
       "    <tr style=\"text-align: right;\">\n",
       "      <th></th>\n",
       "      <th></th>\n",
       "      <th></th>\n",
       "      <th></th>\n",
       "      <th>ID\\tName\\tIndustry\\tInception\\tRevenue\\tExpenses\\tProfit\\tGrowth</th>\n",
       "    </tr>\n",
       "  </thead>\n",
       "  <tbody>\n",
       "    <tr>\n",
       "      <th>1\\tLamtone\\tIT Services\\t2009\\t\"$11</th>\n",
       "      <th>757</th>\n",
       "      <th>018 \"\\t\"6</th>\n",
       "      <th>482</th>\n",
       "      <td>465 Dollars\"\\t5274553\\t30%</td>\n",
       "    </tr>\n",
       "    <tr>\n",
       "      <th>2\\tStripfind\\tFinancial Services\\t2010\\t\"$12</th>\n",
       "      <th>329</th>\n",
       "      <th>371 \"\\t\"916</th>\n",
       "      <th>455 Dollars\"\\t11412916\\t20%</th>\n",
       "      <td>NaN</td>\n",
       "    </tr>\n",
       "    <tr>\n",
       "      <th>3\\tCanecorporation\\tHealth\\t2012\\t\"$10</th>\n",
       "      <th>597</th>\n",
       "      <th>009 \"\\t\"7</th>\n",
       "      <th>591</th>\n",
       "      <td>189 Dollars\"\\t3005820\\t7%</td>\n",
       "    </tr>\n",
       "    <tr>\n",
       "      <th>4\\tMattouch\\tIT Services\\t2013\\t\"$14</th>\n",
       "      <th>26</th>\n",
       "      <th>934 \"\\t\"7</th>\n",
       "      <th>429</th>\n",
       "      <td>377 Dollars\"\\t6597557\\t26%</td>\n",
       "    </tr>\n",
       "    <tr>\n",
       "      <th>5\\tTechdrill\\tHealth\\t2009\\t\"$10</th>\n",
       "      <th>573</th>\n",
       "      <th>990 \"\\t\"7</th>\n",
       "      <th>435</th>\n",
       "      <td>363 Dollars\"\\t3138627\\t8%</td>\n",
       "    </tr>\n",
       "  </tbody>\n",
       "</table>\n",
       "</div>"
      ],
      "text/plain": [
       "                                                                                         ID\\tName\\tIndustry\\tInception\\tRevenue\\tExpenses\\tProfit\\tGrowth\n",
       "1\\tLamtone\\tIT Services\\t2009\\t\"$11          757 018 \"\\t\"6   482                                                 465 Dollars\"\\t5274553\\t30%              \n",
       "2\\tStripfind\\tFinancial Services\\t2010\\t\"$12 329 371 \"\\t\"916 455 Dollars\"\\t11412916\\t20%                                                NaN              \n",
       "3\\tCanecorporation\\tHealth\\t2012\\t\"$10       597 009 \"\\t\"7   591                                                  189 Dollars\"\\t3005820\\t7%              \n",
       "4\\tMattouch\\tIT Services\\t2013\\t\"$14         26  934 \"\\t\"7   429                                                 377 Dollars\"\\t6597557\\t26%              \n",
       "5\\tTechdrill\\tHealth\\t2009\\t\"$10             573 990 \"\\t\"7   435                                                  363 Dollars\"\\t3138627\\t8%              "
      ]
     },
     "execution_count": 6,
     "metadata": {},
     "output_type": "execute_result"
    }
   ],
   "source": [
    "df = pd.read_csv('Fortune_10.csv')\n",
    "df.head()"
   ]
  },
  {
   "cell_type": "code",
   "execution_count": null,
   "metadata": {},
   "outputs": [],
   "source": []
  }
 ],
 "metadata": {
  "kernelspec": {
   "display_name": "Python 3",
   "language": "python",
   "name": "python3"
  },
  "language_info": {
   "codemirror_mode": {
    "name": "ipython",
    "version": 3
   },
   "file_extension": ".py",
   "mimetype": "text/x-python",
   "name": "python",
   "nbconvert_exporter": "python",
   "pygments_lexer": "ipython3",
   "version": "3.12.3"
  }
 },
 "nbformat": 4,
 "nbformat_minor": 2
}
