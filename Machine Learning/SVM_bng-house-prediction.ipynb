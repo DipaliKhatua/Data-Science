{
 "cells": [
  {
   "cell_type": "markdown",
   "metadata": {},
   "source": [
    "## Support Vector Regression Algorithm\n",
    "- Business Problem - Bangalore House Price Prediction\n",
    "- Using Support Vector Regression - Supervised Machine Learning Algorithm"
   ]
  },
  {
   "cell_type": "code",
   "execution_count": 21,
   "metadata": {},
   "outputs": [],
   "source": [
    "import pandas as pd\n",
    "import numpy as np\n",
    "from sklearn.model_selection import train_test_split\n",
    "from sklearn.preprocessing import StandardScaler\n",
    "from sklearn.svm import SVR\n",
    "from sklearn.metrics import mean_squared_error"
   ]
  },
  {
   "cell_type": "code",
   "execution_count": 3,
   "metadata": {},
   "outputs": [],
   "source": [
    "data = pd.read_csv(\"bangalore house price prediction OHE-data.csv\")"
   ]
  },
  {
   "cell_type": "code",
   "execution_count": 4,
   "metadata": {},
   "outputs": [
    {
     "data": {
      "text/html": [
       "<div>\n",
       "<style scoped>\n",
       "    .dataframe tbody tr th:only-of-type {\n",
       "        vertical-align: middle;\n",
       "    }\n",
       "\n",
       "    .dataframe tbody tr th {\n",
       "        vertical-align: top;\n",
       "    }\n",
       "\n",
       "    .dataframe thead th {\n",
       "        text-align: right;\n",
       "    }\n",
       "</style>\n",
       "<table border=\"1\" class=\"dataframe\">\n",
       "  <thead>\n",
       "    <tr style=\"text-align: right;\">\n",
       "      <th></th>\n",
       "      <th>bath</th>\n",
       "      <th>balcony</th>\n",
       "      <th>price</th>\n",
       "      <th>total_sqft_int</th>\n",
       "      <th>bhk</th>\n",
       "      <th>price_per_sqft</th>\n",
       "      <th>area_typeSuper built-up  Area</th>\n",
       "      <th>area_typeBuilt-up  Area</th>\n",
       "      <th>area_typePlot  Area</th>\n",
       "      <th>availability_Ready To Move</th>\n",
       "      <th>...</th>\n",
       "      <th>location_Kalena Agrahara</th>\n",
       "      <th>location_Horamavu Agara</th>\n",
       "      <th>location_Vidyaranyapura</th>\n",
       "      <th>location_BTM 2nd Stage</th>\n",
       "      <th>location_Hebbal Kempapura</th>\n",
       "      <th>location_Hosur Road</th>\n",
       "      <th>location_Horamavu Banaswadi</th>\n",
       "      <th>location_Domlur</th>\n",
       "      <th>location_Mahadevpura</th>\n",
       "      <th>location_Tumkur Road</th>\n",
       "    </tr>\n",
       "  </thead>\n",
       "  <tbody>\n",
       "    <tr>\n",
       "      <th>0</th>\n",
       "      <td>3.0</td>\n",
       "      <td>2.0</td>\n",
       "      <td>150.0</td>\n",
       "      <td>1672.0</td>\n",
       "      <td>3</td>\n",
       "      <td>8971.291866</td>\n",
       "      <td>1</td>\n",
       "      <td>0</td>\n",
       "      <td>0</td>\n",
       "      <td>1</td>\n",
       "      <td>...</td>\n",
       "      <td>0</td>\n",
       "      <td>0</td>\n",
       "      <td>0</td>\n",
       "      <td>0</td>\n",
       "      <td>0</td>\n",
       "      <td>0</td>\n",
       "      <td>0</td>\n",
       "      <td>0</td>\n",
       "      <td>0</td>\n",
       "      <td>0</td>\n",
       "    </tr>\n",
       "    <tr>\n",
       "      <th>1</th>\n",
       "      <td>3.0</td>\n",
       "      <td>3.0</td>\n",
       "      <td>149.0</td>\n",
       "      <td>1750.0</td>\n",
       "      <td>3</td>\n",
       "      <td>8514.285714</td>\n",
       "      <td>0</td>\n",
       "      <td>1</td>\n",
       "      <td>0</td>\n",
       "      <td>1</td>\n",
       "      <td>...</td>\n",
       "      <td>0</td>\n",
       "      <td>0</td>\n",
       "      <td>0</td>\n",
       "      <td>0</td>\n",
       "      <td>0</td>\n",
       "      <td>0</td>\n",
       "      <td>0</td>\n",
       "      <td>0</td>\n",
       "      <td>0</td>\n",
       "      <td>0</td>\n",
       "    </tr>\n",
       "    <tr>\n",
       "      <th>2</th>\n",
       "      <td>3.0</td>\n",
       "      <td>2.0</td>\n",
       "      <td>150.0</td>\n",
       "      <td>1750.0</td>\n",
       "      <td>3</td>\n",
       "      <td>8571.428571</td>\n",
       "      <td>1</td>\n",
       "      <td>0</td>\n",
       "      <td>0</td>\n",
       "      <td>1</td>\n",
       "      <td>...</td>\n",
       "      <td>0</td>\n",
       "      <td>0</td>\n",
       "      <td>0</td>\n",
       "      <td>0</td>\n",
       "      <td>0</td>\n",
       "      <td>0</td>\n",
       "      <td>0</td>\n",
       "      <td>0</td>\n",
       "      <td>0</td>\n",
       "      <td>0</td>\n",
       "    </tr>\n",
       "    <tr>\n",
       "      <th>3</th>\n",
       "      <td>2.0</td>\n",
       "      <td>2.0</td>\n",
       "      <td>40.0</td>\n",
       "      <td>1250.0</td>\n",
       "      <td>2</td>\n",
       "      <td>3200.000000</td>\n",
       "      <td>1</td>\n",
       "      <td>0</td>\n",
       "      <td>0</td>\n",
       "      <td>1</td>\n",
       "      <td>...</td>\n",
       "      <td>0</td>\n",
       "      <td>0</td>\n",
       "      <td>0</td>\n",
       "      <td>0</td>\n",
       "      <td>0</td>\n",
       "      <td>0</td>\n",
       "      <td>0</td>\n",
       "      <td>0</td>\n",
       "      <td>0</td>\n",
       "      <td>0</td>\n",
       "    </tr>\n",
       "    <tr>\n",
       "      <th>4</th>\n",
       "      <td>2.0</td>\n",
       "      <td>2.0</td>\n",
       "      <td>83.0</td>\n",
       "      <td>1200.0</td>\n",
       "      <td>2</td>\n",
       "      <td>6916.666667</td>\n",
       "      <td>0</td>\n",
       "      <td>0</td>\n",
       "      <td>1</td>\n",
       "      <td>1</td>\n",
       "      <td>...</td>\n",
       "      <td>0</td>\n",
       "      <td>0</td>\n",
       "      <td>0</td>\n",
       "      <td>0</td>\n",
       "      <td>0</td>\n",
       "      <td>0</td>\n",
       "      <td>0</td>\n",
       "      <td>0</td>\n",
       "      <td>0</td>\n",
       "      <td>0</td>\n",
       "    </tr>\n",
       "  </tbody>\n",
       "</table>\n",
       "<p>5 rows × 108 columns</p>\n",
       "</div>"
      ],
      "text/plain": [
       "   bath  balcony  price  total_sqft_int  bhk  price_per_sqft  \\\n",
       "0   3.0      2.0  150.0          1672.0    3     8971.291866   \n",
       "1   3.0      3.0  149.0          1750.0    3     8514.285714   \n",
       "2   3.0      2.0  150.0          1750.0    3     8571.428571   \n",
       "3   2.0      2.0   40.0          1250.0    2     3200.000000   \n",
       "4   2.0      2.0   83.0          1200.0    2     6916.666667   \n",
       "\n",
       "   area_typeSuper built-up  Area  area_typeBuilt-up  Area  \\\n",
       "0                              1                        0   \n",
       "1                              0                        1   \n",
       "2                              1                        0   \n",
       "3                              1                        0   \n",
       "4                              0                        0   \n",
       "\n",
       "   area_typePlot  Area  availability_Ready To Move  ...  \\\n",
       "0                    0                           1  ...   \n",
       "1                    0                           1  ...   \n",
       "2                    0                           1  ...   \n",
       "3                    0                           1  ...   \n",
       "4                    1                           1  ...   \n",
       "\n",
       "   location_Kalena Agrahara  location_Horamavu Agara  location_Vidyaranyapura  \\\n",
       "0                         0                        0                        0   \n",
       "1                         0                        0                        0   \n",
       "2                         0                        0                        0   \n",
       "3                         0                        0                        0   \n",
       "4                         0                        0                        0   \n",
       "\n",
       "   location_BTM 2nd Stage  location_Hebbal Kempapura  location_Hosur Road  \\\n",
       "0                       0                          0                    0   \n",
       "1                       0                          0                    0   \n",
       "2                       0                          0                    0   \n",
       "3                       0                          0                    0   \n",
       "4                       0                          0                    0   \n",
       "\n",
       "   location_Horamavu Banaswadi  location_Domlur  location_Mahadevpura  \\\n",
       "0                            0                0                     0   \n",
       "1                            0                0                     0   \n",
       "2                            0                0                     0   \n",
       "3                            0                0                     0   \n",
       "4                            0                0                     0   \n",
       "\n",
       "   location_Tumkur Road  \n",
       "0                     0  \n",
       "1                     0  \n",
       "2                     0  \n",
       "3                     0  \n",
       "4                     0  \n",
       "\n",
       "[5 rows x 108 columns]"
      ]
     },
     "execution_count": 4,
     "metadata": {},
     "output_type": "execute_result"
    }
   ],
   "source": [
    "data.head()"
   ]
  },
  {
   "cell_type": "code",
   "execution_count": 5,
   "metadata": {},
   "outputs": [],
   "source": [
    "X = data.drop('price', axis=1)\n",
    "y = data['price']"
   ]
  },
  {
   "cell_type": "code",
   "execution_count": 6,
   "metadata": {},
   "outputs": [
    {
     "name": "stdout",
     "output_type": "stream",
     "text": [
      "Shape of X =  (7120, 107)\n",
      "Shape of y =  (7120,)\n"
     ]
    }
   ],
   "source": [
    "print('Shape of X = ', X.shape)\n",
    "print('Shape of y = ', y.shape)"
   ]
  },
  {
   "cell_type": "code",
   "execution_count": 8,
   "metadata": {},
   "outputs": [],
   "source": [
    "X_train, X_test, y_train, y_test = train_test_split(X, y, test_size=0.2, random_state=42)"
   ]
  },
  {
   "cell_type": "code",
   "execution_count": 9,
   "metadata": {},
   "outputs": [
    {
     "name": "stdout",
     "output_type": "stream",
     "text": [
      "Shape of X_train =  (5696, 107)\n",
      "Shape of y_train =  (5696,)\n",
      "Shape of X_test =  (1424, 107)\n",
      "Shape of y_test =  (1424,)\n"
     ]
    }
   ],
   "source": [
    "print('Shape of X_train = ', X_train.shape)\n",
    "print('Shape of y_train = ', y_train.shape)\n",
    "print('Shape of X_test = ', X_test.shape)\n",
    "print('Shape of y_test = ', y_test.shape)"
   ]
  },
  {
   "cell_type": "markdown",
   "metadata": {},
   "source": [
    "### Feature Scal;ing"
   ]
  },
  {
   "cell_type": "code",
   "execution_count": 11,
   "metadata": {},
   "outputs": [],
   "source": [
    "standrd_scaler = StandardScaler()\n",
    "standrd_scaler.fit(X_train)\n",
    "X_train = standrd_scaler.transform(X_train)\n",
    "X_test = standrd_scaler.transform(X_test)"
   ]
  },
  {
   "cell_type": "markdown",
   "metadata": {},
   "source": [
    "## Support Vector Regression - ML Model Training"
   ]
  },
  {
   "cell_type": "code",
   "execution_count": 13,
   "metadata": {},
   "outputs": [
    {
     "data": {
      "text/plain": [
       "0.07507719012985958"
      ]
     },
     "execution_count": 13,
     "metadata": {},
     "output_type": "execute_result"
    }
   ],
   "source": [
    "svr_rbf = SVR(kernel='rbf')\n",
    "svr_rbf.fit(X_train, y_train)\n",
    "svr_rbf.score(X_test, y_test)\n",
    " \n",
    "svr_linear = SVR(kernel='linear')\n",
    "svr_linear.fit(X_train, y_train)\n",
    "svr_linear.score(X_test, y_test)\n",
    " \n",
    "svr_poly = SVR(kernel='poly',degree=2,)\n",
    "svr_poly.fit(X_train, y_train)\n",
    "svr_poly.score(X_test, y_test)"
   ]
  },
  {
   "cell_type": "markdown",
   "metadata": {},
   "source": [
    "## Predict the value of Home and Test"
   ]
  },
  {
   "cell_type": "code",
   "execution_count": 14,
   "metadata": {},
   "outputs": [
    {
     "data": {
      "text/plain": [
       "array([-0.44422611,  0.54630035, -0.34334897, -0.55044507, -0.72383255,\n",
       "        0.57680968, -0.47233992, -0.25703648,  0.50597314, -0.18727461,\n",
       "       -0.16162122, -0.15580825, -0.1288342 , -0.13023539, -0.12812824,\n",
       "       -0.12234347,  7.59747652, -0.12741862, -0.12234347, -0.10909925,\n",
       "       -0.1082724 , -0.1082724 , -0.11472827, -0.10743948, -0.09218776,\n",
       "       -0.09315135, -0.08823182, -0.08923672, -0.09023078, -0.08195215,\n",
       "       -0.08514823, -0.0830308 , -0.08514823, -0.07276497, -0.07975227,\n",
       "       -0.07975227, -0.07749158, -0.0739743 , -0.06901264, -0.0751646 ,\n",
       "       -0.07153563, -0.0751646 , -0.0751646 , -0.0751646 , -0.07749158,\n",
       "       -0.07633675, -0.07276497, -0.06901264, -0.0739743 , -0.07276497,\n",
       "       -0.07028523, -0.06504853, -0.0677166 , -0.0677166 , -0.0677166 ,\n",
       "       -0.06504853, -0.07153563, -0.06367332, -0.06226825, -0.06639573,\n",
       "       -0.06226825, -0.06367332, -0.06504853, -0.06504853, -0.06504853,\n",
       "       -0.06083125, -0.05785186, -0.06639573, -0.06226825, -0.06367332,\n",
       "       -0.06226825, -0.06504853, -0.06504853, -0.05471275, -0.06083125,\n",
       "       -0.06504853, -0.05307449, -0.06367332, -0.05935999, -0.05630391,\n",
       "       -0.06226825, -0.05785186, -0.05785186, -0.06083125, -0.06083125,\n",
       "       -0.05471275, -0.05785186, -0.05138463, -0.06083125, -0.06226825,\n",
       "       -0.05471275, -0.05471275, -0.06083125, -0.05785186, -0.05307449,\n",
       "       -0.05307449, -0.05785186, -0.05785186, -0.05138463, -0.05138463,\n",
       "       -0.05935999, -0.05630391, -0.05307449, -0.05138463, -0.04782807,\n",
       "       -0.05138463, -0.04782807])"
      ]
     },
     "execution_count": 14,
     "metadata": {},
     "output_type": "execute_result"
    }
   ],
   "source": [
    "X_test[0]"
   ]
  },
  {
   "cell_type": "code",
   "execution_count": 15,
   "metadata": {},
   "outputs": [
    {
     "data": {
      "text/plain": [
       "array([43.19939184])"
      ]
     },
     "execution_count": 15,
     "metadata": {},
     "output_type": "execute_result"
    }
   ],
   "source": [
    "svr_linear.predict([X_test[0]])"
   ]
  },
  {
   "cell_type": "code",
   "execution_count": 17,
   "metadata": {},
   "outputs": [],
   "source": [
    "y_pred = svr_linear.predict(X_test)"
   ]
  },
  {
   "cell_type": "code",
   "execution_count": 18,
   "metadata": {},
   "outputs": [
    {
     "data": {
      "text/plain": [
       "array([43.19939184, 60.99132775, 67.27973659, ..., 55.79001653,\n",
       "       16.06977223, 47.0151836 ])"
      ]
     },
     "execution_count": 18,
     "metadata": {},
     "output_type": "execute_result"
    }
   ],
   "source": [
    "y_pred"
   ]
  },
  {
   "cell_type": "code",
   "execution_count": 19,
   "metadata": {},
   "outputs": [
    {
     "data": {
      "text/plain": [
       "960      47.0\n",
       "132      60.0\n",
       "2431     65.0\n",
       "2229    325.0\n",
       "4503     60.0\n",
       "        ...  \n",
       "4970     48.0\n",
       "553     205.0\n",
       "1397     56.5\n",
       "4056     26.0\n",
       "1817     49.0\n",
       "Name: price, Length: 1424, dtype: float64"
      ]
     },
     "execution_count": 19,
     "metadata": {},
     "output_type": "execute_result"
    }
   ],
   "source": [
    "y_test"
   ]
  },
  {
   "cell_type": "code",
   "execution_count": 22,
   "metadata": {},
   "outputs": [
    {
     "name": "stdout",
     "output_type": "stream",
     "text": [
      "MSE =  1923.325071295144\n",
      "RMSE =  43.85573019908737\n"
     ]
    }
   ],
   "source": [
    "mse = mean_squared_error(y_test, y_pred)\n",
    "rmse = np.sqrt(mse)\n",
    " \n",
    "print('MSE = ', mse)\n",
    "print('RMSE = ', rmse)"
   ]
  }
 ],
 "metadata": {
  "kernelspec": {
   "display_name": "Python 3",
   "language": "python",
   "name": "python3"
  },
  "language_info": {
   "codemirror_mode": {
    "name": "ipython",
    "version": 3
   },
   "file_extension": ".py",
   "mimetype": "text/x-python",
   "name": "python",
   "nbconvert_exporter": "python",
   "pygments_lexer": "ipython3",
   "version": "3.12.3"
  }
 },
 "nbformat": 4,
 "nbformat_minor": 2
}
