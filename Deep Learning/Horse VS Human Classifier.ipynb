{
 "cells": [
  {
   "cell_type": "markdown",
   "id": "136f95ff",
   "metadata": {},
   "source": [
    "dataset - https://www.kaggle.com/datasets/sanikamal/horses-or-humans-dataset"
   ]
  },
  {
   "cell_type": "code",
   "execution_count": 1,
   "id": "3b45b99a",
   "metadata": {},
   "outputs": [],
   "source": [
    "import os"
   ]
  },
  {
   "cell_type": "code",
   "execution_count": 2,
   "id": "d855eed7",
   "metadata": {},
   "outputs": [],
   "source": [
    "train_horse_dir = os.path.join('./horses/')\n",
    "\n",
    "train_human_dir = os.path.join('./humans')"
   ]
  },
  {
   "cell_type": "code",
   "execution_count": 6,
   "id": "929c803e",
   "metadata": {},
   "outputs": [
    {
     "name": "stdout",
     "output_type": "stream",
     "text": [
      "['horse01-0.png', 'horse01-1.png', 'horse01-2.png', 'horse01-3.png', 'horse01-4.png', 'horse01-5.png', 'horse01-6.png', 'horse01-7.png', 'horse01-8.png', 'horse01-9.png']\n"
     ]
    }
   ],
   "source": [
    "train_horses_names = os.listdir(train_horse_dir)\n",
    "print(train_horses_names[:10])"
   ]
  },
  {
   "cell_type": "code",
   "execution_count": 7,
   "id": "b1380179",
   "metadata": {},
   "outputs": [
    {
     "name": "stdout",
     "output_type": "stream",
     "text": [
      "['human01-00.png', 'human01-01.png', 'human01-02.png', 'human01-03.png', 'human01-04.png', 'human01-05.png', 'human01-06.png', 'human01-07.png', 'human01-08.png', 'human01-09.png']\n"
     ]
    }
   ],
   "source": [
    "train_human_names = os.listdir(train_human_dir)\n",
    "print(train_human_names[:10])"
   ]
  },
  {
   "cell_type": "code",
   "execution_count": 8,
   "id": "a9989f0f",
   "metadata": {},
   "outputs": [
    {
     "name": "stdout",
     "output_type": "stream",
     "text": [
      "Total training Horses Imgaes: 500\n"
     ]
    }
   ],
   "source": [
    "print(\"Total training Horses Imgaes:\", len(os.listdir(train_horse_dir)))"
   ]
  },
  {
   "cell_type": "code",
   "execution_count": 9,
   "id": "70e9e834",
   "metadata": {},
   "outputs": [
    {
     "name": "stdout",
     "output_type": "stream",
     "text": [
      "Total training Horses Imgaes: 527\n"
     ]
    }
   ],
   "source": [
    "print(\"Total training Horses Imgaes:\", len(os.listdir(train_human_dir)))"
   ]
  },
  {
   "cell_type": "code",
   "execution_count": 10,
   "id": "40a931ab",
   "metadata": {},
   "outputs": [],
   "source": [
    "import matplotlib.pyplot as plt\n",
    "import matplotlib.image as mpimg"
   ]
  },
  {
   "cell_type": "code",
   "execution_count": 11,
   "id": "5b60d16e",
   "metadata": {},
   "outputs": [],
   "source": [
    "# parameters for our graph. we will output images in a 4x4 configuration\n",
    "nrows = 4\n",
    "ncols = 4\n",
    "\n",
    "# Index for iterating over images\n",
    "pic_index = 0"
   ]
  },
  {
   "cell_type": "code",
   "execution_count": null,
   "id": "f6d95313",
   "metadata": {},
   "outputs": [],
   "source": [
    "pic_index +=8"
   ]
  }
 ],
 "metadata": {
  "kernelspec": {
   "display_name": "Python 3",
   "language": "python",
   "name": "python3"
  },
  "language_info": {
   "codemirror_mode": {
    "name": "ipython",
    "version": 3
   },
   "file_extension": ".py",
   "mimetype": "text/x-python",
   "name": "python",
   "nbconvert_exporter": "python",
   "pygments_lexer": "ipython3",
   "version": "3.12.3"
  }
 },
 "nbformat": 4,
 "nbformat_minor": 5
}
