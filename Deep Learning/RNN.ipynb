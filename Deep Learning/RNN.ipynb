{
 "cells": [
  {
   "cell_type": "markdown",
   "id": "3ba90f09",
   "metadata": {},
   "source": [
    "##### RNN (Recurrent Neural Network) is a type of neural network specifically designed to process sequential data by maintaining a memory of past inputs. Unlike traditional neural networks, RNNs have a feedback loop that enables them to remember previous outputs and use them to influence the next prediction.\n",
    "\n",
    "#### Needs and Use Case\n",
    "- Why Use RNNs?- Ideal for tasks where order matters, such as time-series or text data.\n",
    "- Ability to model dependencies in sequences (e.g., predicting the next word based on context).\n",
    "\n",
    "- Use Cases:- Natural Language Processing (NLP):- Sentiment analysis, text generation, machine translation.\n",
    "\n",
    "- Time-Series Analysis:- Stock price prediction, weather forecasting.\n",
    "\n",
    "- Speech Recognition:- Transcribing audio to text.\n",
    "\n",
    "- Music Generation:- Creating melodies based on input patterns.\n",
    "\n",
    "\n",
    "\n",
    "#### Example\n",
    "Task: Predict the next word in a sentence.\n",
    "- Input: \"I love machine...\"\n",
    "- Output: \"learning.\"\n",
    "\n",
    "RNN processes each word sequentially, updating its \"memory\" (hidden state) to predict the next word based on prior context.\n",
    "\n",
    "#### Challenges of RNNs\n",
    "- Vanishing Gradient Problem: Difficulty in learning long-term dependencies.\n",
    "- Solution: Advanced variants like LSTM (Long Short-Term Memory) or GRU (Gated Recurrent Unit).\n"
   ]
  },
  {
   "cell_type": "markdown",
   "id": "696b97a0",
   "metadata": {},
   "source": [
    "#### RNN Types"
   ]
  },
  {
   "cell_type": "markdown",
   "id": "5d31d4c6",
   "metadata": {},
   "source": [
    "1. One-to-One\n",
    "- Description: Single input maps to a single output.\n",
    "- Use Case: Image classification (e.g., input: image, output: class label like \"dog\" or \"cat\").\n",
    "- Example: Predicting whether a given image is of a cat.\n",
    "\n",
    "\n",
    "2. One-to-Many\n",
    "- Description: Single input maps to a sequence of outputs.\n",
    "- Use Case: Music generation (e.g., input: seed note, output: sequence of generated notes).\n",
    "- Example: Given a single word, generating a sentence.\n",
    "\n",
    "\n",
    "3. Many-to-One\n",
    "- Description: A sequence of inputs maps to a single output.\n",
    "- Use Case: Sentiment analysis (e.g., input: text sequence, output: sentiment like \"positive\" or \"negative\").\n",
    "- Example: Determining whether a review is positive or negative based on the full text.\n",
    "\n",
    "\n",
    "4. Many-to-Many\n",
    "- Description: A sequence of inputs maps to a sequence of outputs.- Synchronized: Outputs occur at each time step (e.g., video frame classification).\n",
    "- Non-Synchronized: Outputs occur after processing the entire sequence (e.g., machine translation).\n",
    "\n",
    "- Use Case: Language translation (e.g., input: \"How are you?\" → output: \"¿Cómo estás?\").\n"
   ]
  },
  {
   "cell_type": "markdown",
   "id": "5bf8d760",
   "metadata": {},
   "source": []
  },
  {
   "cell_type": "markdown",
   "id": "925dea7d",
   "metadata": {},
   "source": []
  }
 ],
 "metadata": {
  "language_info": {
   "name": "python"
  }
 },
 "nbformat": 4,
 "nbformat_minor": 5
}
