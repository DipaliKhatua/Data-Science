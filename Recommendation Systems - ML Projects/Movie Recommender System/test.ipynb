{
 "cells": [
  {
   "cell_type": "code",
   "execution_count": null,
   "id": "e1a3d578",
   "metadata": {},
   "outputs": [],
   "source": []
  },
  {
   "cell_type": "markdown",
   "id": "c75f8080",
   "metadata": {},
   "source": [
    "Data = pd.DataFrame([2025-03-13 10:15:23] [INFO] Server started successfully.\n",
    "[2025-03-13 10:16:10] [ERROR] Connection to database failed.\n",
    "[2025-03-13 10:17:45] [WARNING] High memory usage detected.\n",
    "[2025-03-13 10:18:30] [ERROR] Disk space running low.\n",
    "[2025-03-13 10:20:01] [INFO] New user registered.\n",
    "[2025-03-13 10:21:15] [INFO] Background job completed.\n",
    "[2025-03-13 10:22:45] [WARNING] CPU temperature high.\n",
    "[2025-03-13 10:23:10] [ERROR] Unable to send email notification.\n",
    "[2025-03-13 10:25:30] [INFO] Server shutting down.)"
   ]
  },
  {
   "cell_type": "markdown",
   "id": "09bcecaa",
   "metadata": {},
   "source": [
    "Read the log file.\n",
    "Count the occurrences of each log level (INFO, WARNING, ERROR).\n",
    "Print the count of each log level.\n",
    "Display the most recent ERROR message (if any)."
   ]
  },
  {
   "cell_type": "code",
   "execution_count": 1,
   "id": "41757256",
   "metadata": {},
   "outputs": [],
   "source": [
    "import pandas as pd"
   ]
  },
  {
   "cell_type": "code",
   "execution_count": null,
   "id": "96801cd8",
   "metadata": {},
   "outputs": [],
   "source": [
    "data = pd.read"
   ]
  },
  {
   "cell_type": "code",
   "execution_count": null,
   "id": "e429ed9d",
   "metadata": {},
   "outputs": [],
   "source": [
    "with open(\"hello.txt\") as my_file:\n",
    "    print(my_file.read())\n"
   ]
  },
  {
   "cell_type": "code",
   "execution_count": 4,
   "id": "2443e220",
   "metadata": {},
   "outputs": [
    {
     "name": "stdout",
     "output_type": "stream",
     "text": [
      "[2025-03-13 10:15:23] [INFO] Server started successfully.\n",
      "[2025-03-13 10:16:10] [ERROR] Connection to database failed.\n",
      "[2025-03-13 10:17:45] [WARNING] High memory usage detected.\n",
      "[2025-03-13 10:18:30] [ERROR] Disk space running low.\n",
      "[2025-03-13 10:20:01] [INFO] New user registered.\n",
      "[2025-03-13 10:21:15] [INFO] Background job completed.\n",
      "[2025-03-13 10:22:45] [WARNING] CPU temperature high.\n",
      "[2025-03-13 10:23:10] [ERROR] Unable to send email notification.\n",
      "[2025-03-13 10:25:30] [INFO] Server shutting down.\n"
     ]
    }
   ],
   "source": [
    "with open (\"test.txt\") as my_file:\n",
    "    print(my_file.read())"
   ]
  },
  {
   "cell_type": "code",
   "execution_count": null,
   "id": "9f8764e5",
   "metadata": {},
   "outputs": [
    {
     "ename": "TypeError",
     "evalue": "'_io.TextIOWrapper' object is not subscriptable",
     "output_type": "error",
     "traceback": [
      "\u001b[1;31m---------------------------------------------------------------------------\u001b[0m",
      "\u001b[1;31mTypeError\u001b[0m                                 Traceback (most recent call last)",
      "Cell \u001b[1;32mIn[6], line 1\u001b[0m\n\u001b[1;32m----> 1\u001b[0m \u001b[43mmy_file\u001b[49m\u001b[43m[\u001b[49m\u001b[38;5;241;43m1\u001b[39;49m\u001b[43m]\u001b[49m\n",
      "\u001b[1;31mTypeError\u001b[0m: '_io.TextIOWrapper' object is not subscriptable"
     ]
    }
   ],
   "source": []
  }
 ],
 "metadata": {
  "kernelspec": {
   "display_name": "Python 3",
   "language": "python",
   "name": "python3"
  },
  "language_info": {
   "codemirror_mode": {
    "name": "ipython",
    "version": 3
   },
   "file_extension": ".py",
   "mimetype": "text/x-python",
   "name": "python",
   "nbconvert_exporter": "python",
   "pygments_lexer": "ipython3",
   "version": "3.12.3"
  }
 },
 "nbformat": 4,
 "nbformat_minor": 5
}
